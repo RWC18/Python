{
 "cells": [
  {
   "cell_type": "markdown",
   "metadata": {},
   "source": [
    "# Exercise 1"
   ]
  },
  {
   "cell_type": "code",
   "execution_count": 6,
   "metadata": {},
   "outputs": [],
   "source": [
    "project,difficulty = [\"cake\",4]\n",
    "ingridients = [\"flour\",\"butter\",\"sugar\",\"eggs\",\"cocoa powder\",\"baking powder\"]"
   ]
  },
  {
   "cell_type": "code",
   "execution_count": 7,
   "metadata": {},
   "outputs": [
    {
     "name": "stdout",
     "output_type": "stream",
     "text": [
      "Apple in ingridients:  False\n"
     ]
    }
   ],
   "source": [
    "print(\"Apple in ingridients: \",\"apple\" in ingridients)"
   ]
  },
  {
   "cell_type": "code",
   "execution_count": 8,
   "metadata": {},
   "outputs": [
    {
     "name": "stdout",
     "output_type": "stream",
     "text": [
      "Butter in ingridients:  True\n"
     ]
    }
   ],
   "source": [
    "print(\"Butter in ingridients: \",\"butter\" in ingridients)"
   ]
  },
  {
   "cell_type": "code",
   "execution_count": 9,
   "metadata": {},
   "outputs": [
    {
     "name": "stdout",
     "output_type": "stream",
     "text": [
      "Eggs and margarine in ingridients:  True\n"
     ]
    }
   ],
   "source": [
    "print(\"Eggs and margarine in ingridients: \",\"eggs\" in ingridients or \"margarine\" in ingridients)"
   ]
  },
  {
   "cell_type": "code",
   "execution_count": 10,
   "metadata": {},
   "outputs": [
    {
     "name": "stdout",
     "output_type": "stream",
     "text": [
      "Eggs or margarine in ingridients:  False\n"
     ]
    }
   ],
   "source": [
    "print(\"Eggs or margarine in ingridients: \",\"eggs\" in ingridients and \"margarine\" in ingridients)"
   ]
  },
  {
   "cell_type": "code",
   "execution_count": 11,
   "metadata": {},
   "outputs": [],
   "source": [
    "flour = 175\n",
    "butter = 175\n",
    "sugar = \"100g\"\n",
    "eggs = 2\n",
    "cocoa_powder = \"1ts\"\n",
    "baking_powder = 0.5"
   ]
  },
  {
   "cell_type": "code",
   "execution_count": 12,
   "metadata": {},
   "outputs": [
    {
     "data": {
      "text/plain": [
       "int"
      ]
     },
     "execution_count": 12,
     "metadata": {},
     "output_type": "execute_result"
    }
   ],
   "source": [
    "type(flour)"
   ]
  },
  {
   "cell_type": "code",
   "execution_count": 13,
   "metadata": {},
   "outputs": [
    {
     "data": {
      "text/plain": [
       "int"
      ]
     },
     "execution_count": 13,
     "metadata": {},
     "output_type": "execute_result"
    }
   ],
   "source": [
    "type(butter)"
   ]
  },
  {
   "cell_type": "code",
   "execution_count": 14,
   "metadata": {},
   "outputs": [
    {
     "data": {
      "text/plain": [
       "str"
      ]
     },
     "execution_count": 14,
     "metadata": {},
     "output_type": "execute_result"
    }
   ],
   "source": [
    "type(sugar)"
   ]
  },
  {
   "cell_type": "code",
   "execution_count": 15,
   "metadata": {},
   "outputs": [
    {
     "data": {
      "text/plain": [
       "int"
      ]
     },
     "execution_count": 15,
     "metadata": {},
     "output_type": "execute_result"
    }
   ],
   "source": [
    "type(eggs)"
   ]
  },
  {
   "cell_type": "code",
   "execution_count": 16,
   "metadata": {},
   "outputs": [
    {
     "data": {
      "text/plain": [
       "str"
      ]
     },
     "execution_count": 16,
     "metadata": {},
     "output_type": "execute_result"
    }
   ],
   "source": [
    "type(cocoa_powder)"
   ]
  },
  {
   "cell_type": "code",
   "execution_count": 17,
   "metadata": {},
   "outputs": [
    {
     "data": {
      "text/plain": [
       "float"
      ]
     },
     "execution_count": 17,
     "metadata": {},
     "output_type": "execute_result"
    }
   ],
   "source": [
    "type(baking_powder)"
   ]
  },
  {
   "cell_type": "code",
   "execution_count": 18,
   "metadata": {},
   "outputs": [
    {
     "name": "stdout",
     "output_type": "stream",
     "text": [
      "Flour - 175\n",
      "Butter - 175\n",
      "Sugar - 100g\n",
      "Eggs - 2\n",
      "Cocoa powder - 1ts\n",
      "Baking powder - 0.5\n"
     ]
    }
   ],
   "source": [
    "print(\"Flour -\",flour)\n",
    "print(\"Butter -\",butter)\n",
    "print(\"Sugar -\",sugar)\n",
    "print(\"Eggs -\",eggs)\n",
    "print(\"Cocoa powder -\",cocoa_powder)\n",
    "print(\"Baking powder -\",baking_powder)\n"
   ]
  },
  {
   "cell_type": "markdown",
   "metadata": {},
   "source": [
    "# Exercise 2"
   ]
  },
  {
   "cell_type": "code",
   "execution_count": 19,
   "metadata": {},
   "outputs": [
    {
     "name": "stdout",
     "output_type": "stream",
     "text": [
      "Z = 1003.0\n",
      "X = 892\n"
     ]
    }
   ],
   "source": [
    "a,b,c = [15,8,2]\n",
    "z = 5 * a**2 - a * b + (a % 2) - a / 5\n",
    "print(\"Z =\",z)\n",
    "x = b**3 + 3*a*b + 10*c\n",
    "print(\"X =\",x)"
   ]
  },
  {
   "cell_type": "markdown",
   "metadata": {},
   "source": [
    "# Exercise 3"
   ]
  },
  {
   "cell_type": "code",
   "execution_count": 20,
   "metadata": {},
   "outputs": [
    {
     "name": "stdout",
     "output_type": "stream",
     "text": [
      "My Birthday  2000-10-03\n",
      "My Birthday Year  2000\n",
      "My Birthday Month  10\n",
      "My Birthday Day  3\n",
      "My Birthday of the week 2\n",
      "Days until my next birthday  378 days, 0:00:00\n"
     ]
    }
   ],
   "source": [
    "import datetime\n",
    "import calendar\n",
    "import time\n",
    "\n",
    "bday=datetime.date(2000, 10, 3)\n",
    "print('My Birthday ', bday)\n",
    "print('My Birthday Year ', bday.year)\n",
    "print('My Birthday Month ', bday.month)\n",
    "print('My Birthday Day ', bday.day)\n",
    "print('My Birthday of the week', bday.isoweekday())\n",
    "tday = datetime.date.today()\n",
    "nextbday = datetime.date(2019, 10, 3)\n",
    "tonextbday = nextbday - tday\n",
    "print(\"Days until my next birthday \", tonextbday)\n"
   ]
  },
  {
   "cell_type": "code",
   "execution_count": 21,
   "metadata": {},
   "outputs": [
    {
     "name": "stdout",
     "output_type": "stream",
     "text": [
      "      May 2017\n",
      "Mo Tu We Th Fr Sa Su\n",
      " 1  2  3  4  5  6  7\n",
      " 8  9 10 11 12 13 14\n",
      "15 16 17 18 19 20 21\n",
      "22 23 24 25 26 27 28\n",
      "29 30 31\n",
      "\n"
     ]
    }
   ],
   "source": [
    "cal = calendar.month(2017, 5)\n",
    "print (cal)"
   ]
  },
  {
   "cell_type": "code",
   "execution_count": 22,
   "metadata": {},
   "outputs": [
    {
     "name": "stdout",
     "output_type": "stream",
     "text": [
      "Yesterday 2018-09-19\n",
      "Current time 19:36:11.642468\n",
      "2018-09-21\n",
      "2018-09-16\n"
     ]
    }
   ],
   "source": [
    "tday = datetime.date.today()\n",
    "tdelta = datetime.timedelta(days = 1)\n",
    "yesterday=tday-tdelta\n",
    "print(\"Yesterday\" ,yesterday)\n",
    "curtime = datetime.datetime.time(datetime.datetime.now())\n",
    "print(\"Current time\",curtime)\n",
    "ydayplus2 = yesterday+datetime.timedelta(days = 2) \n",
    "ydaymin3 = yesterday-datetime.timedelta(days = 3)\n",
    "print(ydayplus2)\n",
    "print(ydaymin3)"
   ]
  },
  {
   "cell_type": "markdown",
   "metadata": {},
   "source": [
    "# Extra"
   ]
  },
  {
   "cell_type": "code",
   "execution_count": 23,
   "metadata": {},
   "outputs": [
    {
     "name": "stdout",
     "output_type": "stream",
     "text": [
      "3 - odd\n",
      "5 - odd\n",
      "6 - even\n",
      "8 - even\n"
     ]
    }
   ],
   "source": [
    "a,b,c,d = [3,5,6,8]\n",
    "amod, bmod, cmod, dmod = [3%2,5%2,6%2,8%2] \n",
    "if amod > 0:\n",
    "    print(a, \"- odd\")\n",
    "else:\n",
    "    print(a, \"- even\")\n",
    "    \n",
    "if bmod > 0:\n",
    "    print(b, \"- odd\")\n",
    "else:\n",
    "    print(b, \"- even\")\n",
    "\n",
    "if cmod > 0:\n",
    "    print(c, \"- odd\")\n",
    "else:\n",
    "    print(c, \"- even\")\n",
    "\n",
    "if dmod > 0:\n",
    "    print(d, \"- odd\")\n",
    "else:\n",
    "    print(d, \"- even\")\n",
    "\n",
    "\n",
    "\n",
    "    "
   ]
  },
  {
   "cell_type": "code",
   "execution_count": 24,
   "metadata": {
    "scrolled": true
   },
   "outputs": [
    {
     "data": {
      "text/plain": [
       "['In',\n",
       " 'Out',\n",
       " '_',\n",
       " '_1',\n",
       " '_12',\n",
       " '_13',\n",
       " '_14',\n",
       " '_15',\n",
       " '_16',\n",
       " '_17',\n",
       " '__',\n",
       " '___',\n",
       " '__builtin__',\n",
       " '__builtins__',\n",
       " '__doc__',\n",
       " '__loader__',\n",
       " '__name__',\n",
       " '__package__',\n",
       " '__spec__',\n",
       " '_dh',\n",
       " '_i',\n",
       " '_i1',\n",
       " '_i10',\n",
       " '_i11',\n",
       " '_i12',\n",
       " '_i13',\n",
       " '_i14',\n",
       " '_i15',\n",
       " '_i16',\n",
       " '_i17',\n",
       " '_i18',\n",
       " '_i19',\n",
       " '_i2',\n",
       " '_i20',\n",
       " '_i21',\n",
       " '_i22',\n",
       " '_i23',\n",
       " '_i24',\n",
       " '_i3',\n",
       " '_i4',\n",
       " '_i5',\n",
       " '_i6',\n",
       " '_i7',\n",
       " '_i8',\n",
       " '_i9',\n",
       " '_ih',\n",
       " '_ii',\n",
       " '_iii',\n",
       " '_oh',\n",
       " 'a',\n",
       " 'amod',\n",
       " 'b',\n",
       " 'baking_powder',\n",
       " 'bday',\n",
       " 'bmod',\n",
       " 'butter',\n",
       " 'c',\n",
       " 'cal',\n",
       " 'calendar',\n",
       " 'cmod',\n",
       " 'cocoa_powder',\n",
       " 'curtime',\n",
       " 'd',\n",
       " 'datetime',\n",
       " 'difficulty',\n",
       " 'dmod',\n",
       " 'eggs',\n",
       " 'exit',\n",
       " 'flour',\n",
       " 'get_ipython',\n",
       " 'ingridients',\n",
       " 'nextbday',\n",
       " 'project',\n",
       " 'quit',\n",
       " 'sugar',\n",
       " 'tday',\n",
       " 'tdelta',\n",
       " 'time',\n",
       " 'tonextbday',\n",
       " 'x',\n",
       " 'ydaymin3',\n",
       " 'ydayplus2',\n",
       " 'yesterday',\n",
       " 'z']"
      ]
     },
     "execution_count": 24,
     "metadata": {},
     "output_type": "execute_result"
    }
   ],
   "source": [
    "dir()"
   ]
  }
 ],
 "metadata": {
  "kernelspec": {
   "display_name": "Python 3",
   "language": "python",
   "name": "python3"
  },
  "language_info": {
   "codemirror_mode": {
    "name": "ipython",
    "version": 3
   },
   "file_extension": ".py",
   "mimetype": "text/x-python",
   "name": "python",
   "nbconvert_exporter": "python",
   "pygments_lexer": "ipython3",
   "version": "3.6.5"
  }
 },
 "nbformat": 4,
 "nbformat_minor": 2
}
