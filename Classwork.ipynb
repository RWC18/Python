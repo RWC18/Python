{
 "cells": [
  {
   "cell_type": "code",
   "execution_count": 1,
   "metadata": {},
   "outputs": [
    {
     "name": "stdout",
     "output_type": "stream",
     "text": [
      "a = 1\n",
      "b = Shahane\n"
     ]
    }
   ],
   "source": [
    "a = 1\n",
    "b = \"Shahane\"\n",
    "print(\"a =\", a)\n",
    "print(\"b =\", b)"
   ]
  },
  {
   "cell_type": "code",
   "execution_count": 2,
   "metadata": {},
   "outputs": [
    {
     "name": "stdout",
     "output_type": "stream",
     "text": [
      "a = 1\n",
      "b = Shahane\n"
     ]
    }
   ],
   "source": [
    "a,b = 1, \"Shahane\"\n",
    "print(\"a =\", a)\n",
    "print(\"b =\", b)"
   ]
  },
  {
   "cell_type": "code",
   "execution_count": 15,
   "metadata": {},
   "outputs": [
    {
     "name": "stdout",
     "output_type": "stream",
     "text": [
      "Course:  | Inro to Python |\n",
      "Student:  | Vahe Minasyan |\n",
      "Nickname:  | Reverse Flash |\n",
      "Grade:  |  99  |\n",
      "PythonExpert:  |  False  |\n"
     ]
    }
   ],
   "source": [
    "course = \"| Inro to Python |\"\n",
    "student = \"| Vahe Minasyan |\"\n",
    "nickname = \"| Reverse Flash |\"\n",
    "grade = 99\n",
    "PythonExpert = False\n",
    "print(\"Course: \", course)\n",
    "print(\"Student: \",student)\n",
    "print(\"Nickname: \",nickname)\n",
    "print(\"Grade: \",\"| \", grade, \" |\")\n",
    "print(\"PythonExpert: \",\"| \", PythonExpert, \" |\")"
   ]
  },
  {
   "cell_type": "code",
   "execution_count": 24,
   "metadata": {},
   "outputs": [
    {
     "name": "stdout",
     "output_type": "stream",
     "text": [
      "The hypotenuse of the triangle ABC =  5.0\n"
     ]
    }
   ],
   "source": [
    "import math\n",
    "\n",
    "AB = 3\n",
    "AC = 4\n",
    "BC = math.sqrt(AC**2 + AB**2)\n",
    "\n",
    "print(\"The hypotenuse of the triangle ABC = \", BC )"
   ]
  },
  {
   "cell_type": "code",
   "execution_count": 45,
   "metadata": {},
   "outputs": [
    {
     "name": "stdout",
     "output_type": "stream",
     "text": [
      "Localtime =  Tue Sep 18 20:43:53 2018\n",
      "Today year =  2018\n",
      "Today year =  9\n",
      "Today Weekday =  2\n",
      "\n",
      "5 days, 0:00:00\n",
      "Today date: 2018-09-18 20:43:53.131291\n",
      "Today date - 5 days:  2018-09-13 20:43:53.131291\n",
      "\n",
      "0:00:05\n",
      "Today date: 2018-09-18 20:43:53.131291\n",
      "Today date - 5 days:  2018-09-18 20:43:48.131291\n"
     ]
    }
   ],
   "source": [
    "import datetime\n",
    "import time\n",
    "import calendar\n",
    "\n",
    "local = time.asctime()\n",
    "tday = datetime.datetime.today()\n",
    "\n",
    "tdelta = datetime.timedelta(days = 5)\n",
    "tdeltasec = datetime.timedelta(seconds = 5)\n",
    "\n",
    "\n",
    "print(\"Localtime = \", local)\n",
    "print(\"Today year = \", tday.year)\n",
    "print(\"Today year = \", tday.month)\n",
    "print(\"Today Weekday = \", tday.isoweekday())\n",
    "\n",
    "print()\n",
    "print(tdelta)\n",
    "print(\"Today date:\", tday)\n",
    "print('Today date - 5 days: ', tday - tdelta)\n",
    "\n",
    "print()\n",
    "print(tdeltasec)\n",
    "print(\"Today date:\", tday)\n",
    "print('Today date - 5 days: ', tday - tdeltasec)\n",
    "\n"
   ]
  }
 ],
 "metadata": {
  "kernelspec": {
   "display_name": "Python 3",
   "language": "python",
   "name": "python3"
  },
  "language_info": {
   "codemirror_mode": {
    "name": "ipython",
    "version": 3
   },
   "file_extension": ".py",
   "mimetype": "text/x-python",
   "name": "python",
   "nbconvert_exporter": "python",
   "pygments_lexer": "ipython3",
   "version": "3.6.4"
  }
 },
 "nbformat": 4,
 "nbformat_minor": 2
}
