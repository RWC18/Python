{
 "cells": [
  {
   "cell_type": "markdown",
   "metadata": {},
   "source": [
    "# Ex.1"
   ]
  },
  {
   "cell_type": "code",
   "execution_count": 2,
   "metadata": {},
   "outputs": [
    {
     "name": "stdout",
     "output_type": "stream",
     "text": [
      "[1, 4, 5, 7, 8, -2, 0, -1]\n"
     ]
    }
   ],
   "source": [
    "a = [1,4,5,7,8,-2,0,-1]\n",
    "print(a)"
   ]
  },
  {
   "cell_type": "code",
   "execution_count": 3,
   "metadata": {},
   "outputs": [
    {
     "name": "stdout",
     "output_type": "stream",
     "text": [
      "7\n",
      "-2\n"
     ]
    }
   ],
   "source": [
    "print(a[3])\n",
    "print(a[5])"
   ]
  },
  {
   "cell_type": "code",
   "execution_count": 4,
   "metadata": {},
   "outputs": [
    {
     "name": "stdout",
     "output_type": "stream",
     "text": [
      "a = [1, 4, 5, 7, 8, -2, 0, -1]\n",
      "a_sorted_reverse = [8, 7, 5, 4, 1, 0, -1, -2]\n",
      "1 to 3 = [7, 5]\n",
      "2 to 6 = [5, 4, 1, 0]\n",
      "Index of number 5 = 2\n"
     ]
    }
   ],
   "source": [
    "a_sorted_reverse = sorted(a, reverse=True)\n",
    "print(\"a =\",a)\n",
    "print(\"a_sorted_reverse =\",a_sorted_reverse)\n",
    "print(\"1 to 3 =\", a_sorted_reverse[1:3])\n",
    "print(\"2 to 6 =\", a_sorted_reverse[2:6])\n",
    "print(\"Index of number 5 =\",a_sorted_reverse.index(5))\n"
   ]
  },
  {
   "cell_type": "code",
   "execution_count": 5,
   "metadata": {},
   "outputs": [
    {
     "name": "stdout",
     "output_type": "stream",
     "text": [
      "[8, 7, 5, 4, 1, 0, -1, -2]\n",
      "[8, 7, 1, 0, -1, -2]\n"
     ]
    }
   ],
   "source": [
    "print(a_sorted_reverse)\n",
    "del a_sorted_reverse[2:4]\n",
    "print(a_sorted_reverse)"
   ]
  },
  {
   "cell_type": "code",
   "execution_count": 6,
   "metadata": {},
   "outputs": [
    {
     "name": "stdout",
     "output_type": "stream",
     "text": [
      "['grapes', 'Potatoes', 'tomatoes', 'Orange', 'Lemon', 'Broccoli', 'Carrot', 'Sausages']\n"
     ]
    }
   ],
   "source": [
    "b = [\"grapes\", \"Potatoes\",\"tomatoes\", \"Orange\", \"Lemon\", \"Broccoli\", \"Carrot\", \"Sausages\"]\n",
    "print(b)"
   ]
  },
  {
   "cell_type": "code",
   "execution_count": 7,
   "metadata": {},
   "outputs": [
    {
     "name": "stdout",
     "output_type": "stream",
     "text": [
      "['grapes', 'Potatoes', 'tomatoes', 'Orange', 'Lemon', 'Broccoli', 'Carrot', 'Sausages']\n",
      "['Broccoli', 'Carrot', 'Lemon', 'Orange', 'Potatoes', 'Sausages', 'grapes', 'tomatoes']\n"
     ]
    }
   ],
   "source": [
    "b_sorted = sorted(b)\n",
    "print(b)\n",
    "print(b_sorted)"
   ]
  },
  {
   "cell_type": "code",
   "execution_count": 8,
   "metadata": {},
   "outputs": [
    {
     "name": "stdout",
     "output_type": "stream",
     "text": [
      "[4, 5, 'Lemon', 'Broccoli']\n"
     ]
    }
   ],
   "source": [
    "c = a[1:3] + b[4:6]\n",
    "print(c)"
   ]
  },
  {
   "cell_type": "markdown",
   "metadata": {},
   "source": [
    "# Ex.2"
   ]
  },
  {
   "cell_type": "code",
   "execution_count": 29,
   "metadata": {},
   "outputs": [
    {
     "name": "stdout",
     "output_type": "stream",
     "text": [
      "a1 =  ['Cookies', 'Chocolate', 8, True, -3, -5, 'Chocolate', 8, False, 8]\n",
      "b1 =  [8, True, 10, 14, 'Chocolate', 'Milk', 'Jelly', True, False, True]\n",
      "set_a =  {False, True, 8, 'Cookies', 'Chocolate', -5, -3}\n",
      "set_b =  {False, True, 'Milk', 8, 10, 'Jelly', 14, 'Chocolate'}\n",
      "UnionAB =  {False, True, 'Milk', 8, 'Cookies', 10, 'Jelly', 14, 'Chocolate', -5, -3}\n",
      "IntersectionAB =  {False, True, 8, 'Chocolate'}\n",
      "UnionAB =  {False, True, 'Milk', 8, 'Cookies', 10, 'Jelly', 14, 'Chocolate', -5, 'Kitkat', -3, 'Oreo'}\n",
      "new_set = {False, True, 'Milk', 8, 'Cookies', 10, 'Jelly', 14, 'Chocolate', -5, 'Kitkat', -3, 'Oreo'}\n",
      "Chocolate in New_set is :  True\n",
      "new_set = {False, True, 'Milk', 8, 'Cookies', 10, 'Jelly', 14, 'Chocolate', -5, 'Kitkat', -3}\n"
     ]
    }
   ],
   "source": [
    "a1 = [\"Cookies\",\"Chocolate\",8, True, -3, -5, \"Chocolate\", 8, False, 8]\n",
    "print(\"a1 = \",a1)\n",
    "b1 = [8, True, 10, 14,\"Chocolate\", \"Milk\", \"Jelly\", True, False, True]\n",
    "print(\"b1 = \",b1)\n",
    "\n",
    "set_a = set(a1)\n",
    "print(\"set_a = \", set_a)\n",
    "\n",
    "set_b = set(b1)\n",
    "print(\"set_b = \", set_b)\n",
    "\n",
    "unionab = set_a.union(set_b)\n",
    "print(\"UnionAB = \", unionab)\n",
    "\n",
    "intersectionab = set_a.intersection(set_b)\n",
    "print(\"IntersectionAB = \", intersectionab)\n",
    "\n",
    "unionab.add(\"Kitkat\")\n",
    "unionab.add(\"Oreo\")\n",
    "print(\"UnionAB = \", unionab)\n",
    "\n",
    "new_set = unionab | intersectionab\n",
    "print(\"new_set =\", new_set)\n",
    "\n",
    "chockinset = \"Chocolate\" in new_set\n",
    "print(\"Chocolate in New_set is : \", chockinset)\n",
    "\n",
    "new_set.remove(\"Oreo\")\n",
    "print(\"new_set =\", new_set)\n"
   ]
  },
  {
   "cell_type": "markdown",
   "metadata": {},
   "source": [
    "# Ex.3"
   ]
  },
  {
   "cell_type": "code",
   "execution_count": 44,
   "metadata": {},
   "outputs": [
    {
     "name": "stdout",
     "output_type": "stream",
     "text": [
      "t1 = (1, True, 'a', -2, 'Anna')\n",
      "t2 = (1, 2, 3, 4, 5)\n",
      "t3 = (1, True, 3, 4, 5)\n",
      "t3[2] = 3\n",
      "t4 = [(1, 3, 5), (8, 9), ('Anna', 'Bob', 'Alice')]\n",
      "t4[0][1] = 3\n"
     ]
    }
   ],
   "source": [
    "t1 = (1, True, \"a\", -2,\"Anna\")\n",
    "print(\"t1 =\", t1)\n",
    "t2 = (1, 2, 3, 4, 5)\n",
    "print(\"t2 =\", t2)\n",
    "t3 = t1[0:2] + t2[2:5]\n",
    "print(\"t3 =\", t3)\n",
    "print(\"t3[2] =\", t3[2])\n",
    "t4 = [(1,3,5), (8,9), (\"Anna\", \"Bob\",\"Alice\")]\n",
    "print(\"t4 =\", t4)\n",
    "print(\"t4[0][1] =\", t4[0][1])\n",
    "\n",
    "\n",
    "\n"
   ]
  }
 ],
 "metadata": {
  "kernelspec": {
   "display_name": "Python 3",
   "language": "python",
   "name": "python3"
  },
  "language_info": {
   "codemirror_mode": {
    "name": "ipython",
    "version": 3
   },
   "file_extension": ".py",
   "mimetype": "text/x-python",
   "name": "python",
   "nbconvert_exporter": "python",
   "pygments_lexer": "ipython3",
   "version": "3.6.5"
  }
 },
 "nbformat": 4,
 "nbformat_minor": 2
}
