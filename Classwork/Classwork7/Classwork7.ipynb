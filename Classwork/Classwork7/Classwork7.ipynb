{
 "cells": [
  {
   "cell_type": "code",
   "execution_count": 35,
   "metadata": {},
   "outputs": [
    {
     "name": "stdout",
     "output_type": "stream",
     "text": [
      "Your file doesn't exist\n"
     ]
    },
    {
     "ename": "SystemExit",
     "evalue": "0",
     "output_type": "error",
     "traceback": [
      "An exception has occurred, use %tb to see the full traceback.\n",
      "\u001b[1;31mSystemExit\u001b[0m\u001b[1;31m:\u001b[0m 0\n"
     ]
    },
    {
     "name": "stderr",
     "output_type": "stream",
     "text": [
      "C:\\Users\\Vahe\\Anaconda3\\lib\\site-packages\\IPython\\core\\interactiveshell.py:2971: UserWarning: To exit: use 'exit', 'quit', or Ctrl-D.\n",
      "  warn(\"To exit: use 'exit', 'quit', or Ctrl-D.\", stacklevel=1)\n"
     ]
    }
   ],
   "source": [
    "import sys\n",
    "try:\n",
    "    f = open(Sherlock.txt)\n",
    "except:\n",
    "    print(\"Your file doesn't exist\")\n",
    "    sys.exit(0)"
   ]
  },
  {
   "cell_type": "code",
   "execution_count": 61,
   "metadata": {},
   "outputs": [
    {
     "name": "stdout",
     "output_type": "stream",
     "text": [
      "Wrong variable name\n"
     ]
    }
   ],
   "source": [
    "try:\n",
    "    f = open(\"Sherlock.txt\")\n",
    "    var = wrong_var\n",
    "except FileNotFoundError:\n",
    "    print(\"Your file doesn't exist\")\n",
    "except NameError:\n",
    "    print(\"Wrong variable name\")\n",
    "except Exception:\n",
    "    print(\"Something are wrong\")\n"
   ]
  },
  {
   "cell_type": "code",
   "execution_count": 69,
   "metadata": {},
   "outputs": [
    {
     "name": "stdout",
     "output_type": "stream",
     "text": [
      "Error\n"
     ]
    }
   ],
   "source": [
    "try:\n",
    "    f = open(\"Sherlock.txt\")\n",
    "    if f.name == \"Sherlock.txt\":\n",
    "        raise Exception\n",
    "except FileNotFoundError as e:\n",
    "    print(e)\n",
    "except Exception as e:\n",
    "    print(\"Error\")\n"
   ]
  },
  {
   "cell_type": "code",
   "execution_count": 77,
   "metadata": {},
   "outputs": [
    {
     "name": "stdout",
     "output_type": "stream",
     "text": [
      "B\n",
      "C\n",
      "D\n"
     ]
    }
   ],
   "source": [
    "class B(Exception):\n",
    "    pass\n",
    "\n",
    "class C(B):\n",
    "    pass\n",
    "\n",
    "class D(C):\n",
    "    pass\n",
    "\n",
    "for cls in [B, C, D]:\n",
    "    try:\n",
    "        raise cls()\n",
    "    except D:\n",
    "        print(\"D\")\n",
    "    except C:\n",
    "        print(\"C\")\n",
    "    except B:\n",
    "        print(\"B\")"
   ]
  },
  {
   "cell_type": "code",
   "execution_count": 134,
   "metadata": {},
   "outputs": [
    {
     "name": "stdout",
     "output_type": "stream",
     "text": [
      "No module named 'sygs'\n"
     ]
    }
   ],
   "source": [
    "try:\n",
    "    from sygs import exit\n",
    "except ModuleNotFoundError as e:\n",
    "    print(e)\n",
    "except Exception as e:\n",
    "\tprint(e)"
   ]
  },
  {
   "cell_type": "code",
   "execution_count": 175,
   "metadata": {},
   "outputs": [
    {
     "name": "stdout",
     "output_type": "stream",
     "text": [
      "The entry is: the current entry of the [0, 'a', 2]\n",
      "Oops! The exception that occured\n"
     ]
    }
   ],
   "source": [
    "try:\n",
    "    l1 = [0,\"a\",2]\n",
    "    for i in range(len(l1)):\n",
    "        num = l1[i]\n",
    "        num = 1/num\n",
    "        print(num)\n",
    "except:\n",
    "    print(\"The entry is: the current entry of the\", l1)\n",
    "    print(\"Oops! The exception that occured\")\n"
   ]
  },
  {
   "cell_type": "code",
   "execution_count": 185,
   "metadata": {},
   "outputs": [
    {
     "name": "stdout",
     "output_type": "stream",
     "text": [
      "Your Username: Ramvo\n",
      "Welcome Ramvo\n"
     ]
    }
   ],
   "source": [
    "try:\n",
    "    username = input(\"Your Username: \")\n",
    "    if username == \"Rambo\":\n",
    "        raise Exception\n",
    "    else:\n",
    "        print(\"Welcome\", username)\n",
    "except Exception:\n",
    "    print(\"This username is busy\")"
   ]
  }
 ],
 "metadata": {
  "kernelspec": {
   "display_name": "Python 3",
   "language": "python",
   "name": "python3"
  },
  "language_info": {
   "codemirror_mode": {
    "name": "ipython",
    "version": 3
   },
   "file_extension": ".py",
   "mimetype": "text/x-python",
   "name": "python",
   "nbconvert_exporter": "python",
   "pygments_lexer": "ipython3",
   "version": "3.6.5"
  }
 },
 "nbformat": 4,
 "nbformat_minor": 2
}
