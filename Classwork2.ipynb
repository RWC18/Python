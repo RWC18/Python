{
 "cells": [
  {
   "cell_type": "markdown",
   "metadata": {},
   "source": [
    "# Ex.1"
   ]
  },
  {
   "cell_type": "code",
   "execution_count": 66,
   "metadata": {},
   "outputs": [
    {
     "name": "stdout",
     "output_type": "stream",
     "text": [
      "[1, 4, 5, 7, 8, -2, 0, -1]\n"
     ]
    }
   ],
   "source": [
    "a = [1,4,5,7,8,-2,0,-1]\n",
    "print(a)"
   ]
  },
  {
   "cell_type": "code",
   "execution_count": 67,
   "metadata": {},
   "outputs": [
    {
     "name": "stdout",
     "output_type": "stream",
     "text": [
      "7\n",
      "-2\n"
     ]
    }
   ],
   "source": [
    "print(a[3])\n",
    "print(a[5])"
   ]
  },
  {
   "cell_type": "code",
   "execution_count": 68,
   "metadata": {},
   "outputs": [
    {
     "name": "stdout",
     "output_type": "stream",
     "text": [
      "a = [1, 4, 5, 7, 8, -2, 0, -1]\n",
      "a_sorted_reverse = [8, 7, 5, 4, 1, 0, -1, -2]\n",
      "1 to 3 = [7, 5]\n",
      "2 to 6 = [5, 4, 1, 0]\n",
      "Index of number 5 = 2\n"
     ]
    }
   ],
   "source": [
    "a_sorted_reverse = sorted(a, reverse=True)\n",
    "print(\"a =\",a)\n",
    "print(\"a_sorted_reverse =\",a_sorted_reverse)\n",
    "print(\"1 to 3 =\", a_sorted_reverse[1:3])\n",
    "print(\"2 to 6 =\", a_sorted_reverse[2:6])\n",
    "print(\"Index of number 5 =\",a_sorted_reverse.index(5))\n"
   ]
  },
  {
   "cell_type": "code",
   "execution_count": 69,
   "metadata": {},
   "outputs": [
    {
     "name": "stdout",
     "output_type": "stream",
     "text": [
      "[8, 7, 5, 4, 1, 0, -1, -2]\n",
      "[8, 7, 1, 0, -1, -2]\n"
     ]
    }
   ],
   "source": [
    "print(a_sorted_reverse)\n",
    "del a_sorted_reverse[2:4]\n",
    "print(a_sorted_reverse)"
   ]
  },
  {
   "cell_type": "code",
   "execution_count": 70,
   "metadata": {},
   "outputs": [
    {
     "name": "stdout",
     "output_type": "stream",
     "text": [
      "['grapes', 'Potatoes', 'tomatoes', 'Orange', 'Lemon', 'Broccoli', 'Carrot', 'Sausages']\n"
     ]
    }
   ],
   "source": [
    "b = [\"grapes\", \"Potatoes\",\"tomatoes\", \"Orange\", \"Lemon\", \"Broccoli\", \"Carrot\", \"Sausages\"]\n",
    "print(b)"
   ]
  },
  {
   "cell_type": "code",
   "execution_count": 72,
   "metadata": {},
   "outputs": [
    {
     "name": "stdout",
     "output_type": "stream",
     "text": [
      "['grapes', 'Potatoes', 'tomatoes', 'Orange', 'Lemon', 'Broccoli', 'Carrot', 'Sausages']\n",
      "['Broccoli', 'Carrot', 'Lemon', 'Orange', 'Potatoes', 'Sausages', 'grapes', 'tomatoes']\n"
     ]
    }
   ],
   "source": [
    "b_sorted = sorted(b)\n",
    "print(b)\n",
    "print(b_sorted)"
   ]
  },
  {
   "cell_type": "code",
   "execution_count": 74,
   "metadata": {},
   "outputs": [
    {
     "name": "stdout",
     "output_type": "stream",
     "text": [
      "[4, 5, 'Lemon', 'Broccoli']\n"
     ]
    }
   ],
   "source": [
    "c = a[1:3] + b[4:6]\n",
    "print(c)"
   ]
  }
 ],
 "metadata": {
  "kernelspec": {
   "display_name": "Python 3",
   "language": "python",
   "name": "python3"
  },
  "language_info": {
   "codemirror_mode": {
    "name": "ipython",
    "version": 3
   },
   "file_extension": ".py",
   "mimetype": "text/x-python",
   "name": "python",
   "nbconvert_exporter": "python",
   "pygments_lexer": "ipython3",
   "version": "3.6.5"
  }
 },
 "nbformat": 4,
 "nbformat_minor": 2
}
