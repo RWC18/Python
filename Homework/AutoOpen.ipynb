{
 "cells": [
  {
   "cell_type": "code",
   "execution_count": null,
   "metadata": {},
   "outputs": [],
   "source": [
    "import webbrowser\n",
    "import time\n",
    "count = 3\n",
    "while count > 0:\n",
    "    time.sleep(3)\n",
    "    webbrowser.open('https://web.facebook.com/?_rdc=1&_rdr')\n",
    "    webbrowser.open('https://web.facebook.com/?_rdc=1&_rdr')\n",
    "    webbrowser.open('https://web.facebook.com/?_rdc=1&_rdr')\n",
    "    webbrowser.open('https://web.facebook.com/?_rdc=1&_rdr')\n",
    "    webbrowser.open('https://web.facebook.com/?_rdc=1&_rdr')\n",
    "\n",
    "    count -= 1"
   ]
  },
  {
   "cell_type": "code",
   "execution_count": null,
   "metadata": {},
   "outputs": [],
   "source": []
  }
 ],
 "metadata": {
  "kernelspec": {
   "display_name": "Python 3",
   "language": "python",
   "name": "python3"
  },
  "language_info": {
   "codemirror_mode": {
    "name": "ipython",
    "version": 3
   },
   "file_extension": ".py",
   "mimetype": "text/x-python",
   "name": "python",
   "nbconvert_exporter": "python",
   "pygments_lexer": "ipython3",
   "version": "3.6.5"
  }
 },
 "nbformat": 4,
 "nbformat_minor": 2
}
