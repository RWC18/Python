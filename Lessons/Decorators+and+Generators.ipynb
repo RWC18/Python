{
 "cells": [
  {
   "cell_type": "markdown",
   "metadata": {
    "collapsed": true
   },
   "source": [
    "### Decorators -> function wrappers"
   ]
  },
  {
   "cell_type": "code",
   "execution_count": 36,
   "metadata": {
    "collapsed": true
   },
   "outputs": [],
   "source": [
    "#Add extra functionality to different functions without modifying the code. \n",
    "#Ֆունկցիաներին ավելացնել լրացուցիչ ֆունկցիոնալություն առանց ֆունկցիա ներսի կոդը փոխելու\n",
    "#http://www.tecbar.net/wp-content/uploads/2015/03/Car_Decorator.png"
   ]
  },
  {
   "cell_type": "code",
   "execution_count": 1,
   "metadata": {},
   "outputs": [
    {
     "name": "stdout",
     "output_type": "stream",
     "text": [
      "Next argument in *args : Hello\n",
      "Next argument in *args : Everyone\n",
      "Next argument in *args : I\n",
      "Next argument in *args : would\n",
      "Next argument in *args : like\n",
      "Next argument in *args : to\n",
      "Next argument in *args : welcome\n",
      "Next argument in *args : you\n",
      "Next argument in *args : all\n"
     ]
    }
   ],
   "source": [
    "#Function takes multiple arguments -> *args\n",
    "#non-keyword arguments i.e.no argument names\n",
    "def test_func1(arg1, arg2, *args): #name doesn't matter, you can write *var1, *lalala\n",
    "    print (\"First argument :\", arg1) \n",
    "    print (\"Second argument :\", arg2)\n",
    "    for arg in args: \n",
    "        print(\"Next argument in *args :\", arg) \n",
    "  \n",
    "test_func1('Hello', 'Everyone', 'I', 'would', 'like', 'to', 'welcome','you','all') "
   ]
  },
  {
   "cell_type": "code",
   "execution_count": 7,
   "metadata": {},
   "outputs": [
    {
     "name": "stdout",
     "output_type": "stream",
     "text": [
      "key =  first ; value =  100\n",
      "key =  mid ; value =  abc\n",
      "key =  last ; value =  True\n"
     ]
    }
   ],
   "source": [
    "# *kargs passing a variable number of keyword arguments \n",
    "def test_func2(**kwargs):  \n",
    "    for key, value in kwargs.items(): \n",
    "        print (\"key = \", key, \";\", \"value = \", value) \n",
    "  \n",
    "\n",
    "test_func2(first =100, mid =\"abc\", last=True)"
   ]
  },
  {
   "cell_type": "code",
   "execution_count": 23,
   "metadata": {},
   "outputs": [
    {
     "name": "stdout",
     "output_type": "stream",
     "text": [
      "[1, 4, 9, 16, 25, 36, 49, 64, 81]\n",
      "[1, 8, 27, 64, 125, 216, 343, 512, 729]\n"
     ]
    }
   ],
   "source": [
    "def calc_square(numbers):\n",
    "    result = []\n",
    "    for number in numbers:\n",
    "        result.append(number*number)\n",
    "    return result\n",
    "\n",
    "def calc_cube(numbers):\n",
    "    result = []\n",
    "    for number in numbers:\n",
    "        result.append(number*number*number)\n",
    "    return result\n",
    "\n",
    "array = range(1,10)\n",
    "out_square = calc_square(array)\n",
    "out_cube = calc_cube(array)\n",
    "print(out_square)\n",
    "print(out_cube)"
   ]
  },
  {
   "cell_type": "code",
   "execution_count": 24,
   "metadata": {},
   "outputs": [
    {
     "name": "stdout",
     "output_type": "stream",
     "text": [
      "calc_square took:  25.98118782043457  mil_sec\n",
      "calc_cube took:  28.982162475585938  mil_sec\n"
     ]
    }
   ],
   "source": [
    "import time\n",
    "\n",
    "\n",
    "def calc_square(numbers):\n",
    "    start = time.time()\n",
    "    result = []\n",
    "    for number in numbers:\n",
    "        result.append(number*number)\n",
    "    end = time.time()\n",
    "    print('calc_square took: ', str((end-start)*1000), \" mil_sec\")\n",
    "    return result\n",
    "\n",
    "def calc_cube(numbers):\n",
    "    start = time.time()\n",
    "    result = []\n",
    "    for number in numbers:\n",
    "        result.append(number*number*number)\n",
    "    end = time.time()\n",
    "    print('calc_cube took: ', str((end-start)*1000), \" mil_sec\")\n",
    "    return result\n",
    "\n",
    "array = range(1,100000)\n",
    "out_square = calc_square(array)\n",
    "out_cube = calc_cube(array)"
   ]
  },
  {
   "cell_type": "code",
   "execution_count": 16,
   "metadata": {},
   "outputs": [
    {
     "name": "stdout",
     "output_type": "stream",
     "text": [
      "calc_square took 19.00172233581543mil sec\n",
      "calc_cube took 24.0023136138916mil sec\n"
     ]
    }
   ],
   "source": [
    "import time\n",
    "\n",
    "def decorator(func):\n",
    "    def wrapper(*args, **kwargs):\n",
    "        start = time.time()\n",
    "        func(*args,**kwargs)\n",
    "        end = time.time()\n",
    "        print(func.__name__ +\" took \" + str((end-start)*1000) + \"mil sec\")\n",
    "    return wrapper\n",
    "\n",
    "\n",
    "@decorator\n",
    "def calc_square(numbers):\n",
    "    result = []\n",
    "    for number in numbers:\n",
    "        result.append(number*number)\n",
    "    return result\n",
    "\n",
    "@decorator\n",
    "def calc_cube(numbers):\n",
    "    result = []\n",
    "    for number in numbers:\n",
    "        result.append(number*number*number)\n",
    "    return result\n",
    "\n",
    "array = range(1,100000)\n",
    "out_square = calc_square(array)\n",
    "out_cube = calc_cube(array)"
   ]
  },
  {
   "cell_type": "code",
   "execution_count": 28,
   "metadata": {},
   "outputs": [
    {
     "name": "stdout",
     "output_type": "stream",
     "text": [
      "Anna\n"
     ]
    }
   ],
   "source": [
    "def printName(name):\n",
    "    print(name)\n",
    "    \n",
    "printName(\"Anna\")"
   ]
  },
  {
   "cell_type": "code",
   "execution_count": 29,
   "metadata": {},
   "outputs": [
    {
     "name": "stdout",
     "output_type": "stream",
     "text": [
      "before calling the function 2018-09-29 22:58:16.269909\n",
      "Anna\n",
      "after calling the function 2018-09-29 22:58:16.864725\n"
     ]
    }
   ],
   "source": [
    "import datetime\n",
    "\n",
    "def decorator(func):\n",
    "    def wrapper(*args, **kwargs):\n",
    "        print('before calling the function', datetime.datetime.now())\n",
    "        func(*args, **kwargs)\n",
    "        print('after calling the function', datetime.datetime.now())\n",
    "    return wrapper\n",
    "\n",
    "@decorator\n",
    "def printName(name):\n",
    "    for i in range(10000):\n",
    "        a=[0]*10000\n",
    "    print(name)\n",
    "    \n",
    "printName(\"Anna\")"
   ]
  },
  {
   "cell_type": "code",
   "execution_count": 27,
   "metadata": {},
   "outputs": [
    {
     "name": "stdout",
     "output_type": "stream",
     "text": [
      "<b><i>hello world</i></b>\n"
     ]
    }
   ],
   "source": [
    "def makebold(fn):\n",
    "    def wrapped(*args, **kwargs):       \n",
    "        return \"<b>\" + fn(*args, **kwargs) + \"</b>\"\n",
    "    return wrapped\n",
    "\n",
    "def makeitalic(fn):\n",
    "    def wrapped():\n",
    "        return \"<i>\" + fn() + \"</i>\"\n",
    "    return wrapped\n",
    "\n",
    "@makebold\n",
    "@makeitalic\n",
    "def hello():\n",
    "    return \"hello world\"\n",
    "\n",
    "print (hello())"
   ]
  },
  {
   "cell_type": "markdown",
   "metadata": {
    "collapsed": true
   },
   "source": [
    "### Generators"
   ]
  },
  {
   "cell_type": "code",
   "execution_count": 30,
   "metadata": {
    "collapsed": true
   },
   "outputs": [],
   "source": [
    "#Generators don't hold the entire result in memory! \n",
    "#They yield the next result, one at a time. \n",
    "#Each time we run next, it gives us the next value that is yielded  \n",
    "#Also, it makes the code more readable (no empty lists and appending) "
   ]
  },
  {
   "cell_type": "code",
   "execution_count": 31,
   "metadata": {
    "collapsed": true
   },
   "outputs": [],
   "source": [
    "#Չեն պահում ամբողջ արդյունքը հիշողության մեջ\n",
    "#yield են անում հաջորդ արդյունքը, ամեն անգամ մեկ արժեք\n",
    "#Երբ աշխատացնում ենք next ֆունկցիան ստանում ենք yield արած հաջորդ արժեքը\n",
    "#Նաև դարձնում է կոդն ավելի ընթեռնելի"
   ]
  },
  {
   "cell_type": "code",
   "execution_count": 33,
   "metadata": {},
   "outputs": [
    {
     "name": "stdout",
     "output_type": "stream",
     "text": [
      "[1, 4, 9, 16, 25]\n"
     ]
    }
   ],
   "source": [
    "def square_numbers(nums):\n",
    "    my_list = []\n",
    "    for i in nums:\n",
    "        my_list.append(i*i)\n",
    "    return my_list\n",
    "\n",
    "my_nums = square_numbers([1,2,3,4,5])\n",
    "\n",
    "print(my_nums)"
   ]
  },
  {
   "cell_type": "code",
   "execution_count": 77,
   "metadata": {},
   "outputs": [
    {
     "name": "stdout",
     "output_type": "stream",
     "text": [
      "<generator object square_numbers_new at 0x000001ABD8805D00>\n"
     ]
    }
   ],
   "source": [
    "def square_numbers_new(nums):\n",
    "     for i in nums:\n",
    "        yield (i*i)\n",
    "\n",
    "my_nums = square_numbers_new([1,2,3,4,5])\n",
    "\n",
    "print(my_nums)"
   ]
  },
  {
   "cell_type": "code",
   "execution_count": 31,
   "metadata": {},
   "outputs": [
    {
     "name": "stdout",
     "output_type": "stream",
     "text": [
      "[1, 4, 9, 16, 25]\n"
     ]
    }
   ],
   "source": [
    "print(list(my_nums))"
   ]
  },
  {
   "cell_type": "code",
   "execution_count": 81,
   "metadata": {},
   "outputs": [
    {
     "name": "stdout",
     "output_type": "stream",
     "text": [
      "1\n"
     ]
    }
   ],
   "source": [
    "my_nums = square_numbers_new([1,2,3,4,5])\n",
    "\n",
    "print(next(my_nums))  #print this more times until we run out of values"
   ]
  },
  {
   "cell_type": "code",
   "execution_count": 32,
   "metadata": {
    "collapsed": true
   },
   "outputs": [],
   "source": [
    "#Or, we can print out the result by iterating over the generator items"
   ]
  },
  {
   "cell_type": "code",
   "execution_count": 33,
   "metadata": {
    "collapsed": true
   },
   "outputs": [],
   "source": [
    "#Կամ կարող ենք տպել արդյունքը generator արված itemներով անցնելով"
   ]
  },
  {
   "cell_type": "code",
   "execution_count": 47,
   "metadata": {},
   "outputs": [
    {
     "name": "stdout",
     "output_type": "stream",
     "text": [
      "1\n",
      "4\n",
      "9\n",
      "16\n",
      "25\n"
     ]
    }
   ],
   "source": [
    "my_nums = square_numbers_new([1,2,3,4,5])\n",
    "\n",
    "for n in my_nums:\n",
    "    print(n)"
   ]
  },
  {
   "cell_type": "code",
   "execution_count": 35,
   "metadata": {},
   "outputs": [
    {
     "name": "stdout",
     "output_type": "stream",
     "text": [
      "[1, 4, 9, 16, 25]\n"
     ]
    }
   ],
   "source": [
    "#Using list comprehention \n",
    "my_nums = [x*x for x in [1,2,3,4,5]]\n",
    "\n",
    "print(my_nums)"
   ]
  },
  {
   "cell_type": "code",
   "execution_count": 4,
   "metadata": {},
   "outputs": [
    {
     "name": "stdout",
     "output_type": "stream",
     "text": [
      "<generator object <genexpr> at 0x000001ABD7E80EB8>\n"
     ]
    }
   ],
   "source": [
    "#Change brackets [ ] -> ( )\n",
    "my_nums = (x*x for x in [1,2,3,4,5])\n",
    "print(my_nums)"
   ]
  },
  {
   "cell_type": "code",
   "execution_count": 91,
   "metadata": {},
   "outputs": [],
   "source": [
    "#Another example\n",
    "def city_generator():\n",
    "    yield(\"London\")\n",
    "    yield(\"Hamburg\")\n",
    "    yield(\"Konstanz\")\n",
    "    yield(\"Amsterdam\")\n",
    "    yield(\"Berlin\")\n",
    "    yield(\"Zurich\")\n",
    "    yield(\"Schaffhausen\")\n",
    "    yield(\"Stuttgart\")\n",
    "    \n"
   ]
  },
  {
   "cell_type": "code",
   "execution_count": 102,
   "metadata": {
    "collapsed": true
   },
   "outputs": [],
   "source": [
    "gen = city_generator()"
   ]
  },
  {
   "cell_type": "code",
   "execution_count": 103,
   "metadata": {},
   "outputs": [
    {
     "name": "stdout",
     "output_type": "stream",
     "text": [
      "London\n"
     ]
    }
   ],
   "source": [
    "print(next(gen))"
   ]
  },
  {
   "cell_type": "markdown",
   "metadata": {
    "collapsed": true
   },
   "source": [
    "#### Performance difference"
   ]
  },
  {
   "cell_type": "code",
   "execution_count": 18,
   "metadata": {},
   "outputs": [
    {
     "name": "stdout",
     "output_type": "stream",
     "text": [
      "88\n",
      "Took 0.1146143810420881 Seconds\n"
     ]
    }
   ],
   "source": [
    "import sys\n",
    "import random\n",
    "import time\n",
    "\n",
    "names = ['John', 'Corey', 'Adam', 'Steve', 'Rick', 'Thomas']\n",
    "majors = ['Math', 'Engineering', 'CompSci', 'Arts', 'Business']\n",
    "\n",
    "\n",
    "\n",
    "def people_list(num_people):\n",
    "    result = []\n",
    "    for i in range(num_people):\n",
    "        person = {\n",
    "                    'id': i,\n",
    "                    'name': random.choice(names),\n",
    "                    'major': random.choice(majors)\n",
    "                }\n",
    "        result.append(person)\n",
    "    return result\n",
    "\n",
    "def people_generator(num_people):\n",
    "    for i in range(num_people):\n",
    "        person = {\n",
    "                    'id': i,\n",
    "                    'name': random.choice(names),\n",
    "                    'major': random.choice(majors)\n",
    "                }\n",
    "        yield person\n",
    "\n",
    "#t1 = time.clock()\n",
    "#people = people_list(1000000)\n",
    "#t2 = time.clock()\n",
    "\n",
    "t1 = time.clock()\n",
    "people = people_generator(1000000)   #list(people_generator(1000000))\n",
    "t2 = time.clock()\n",
    "\n",
    "print (sys.getsizeof(people))  # Memory size of the object in bytes\n",
    "print ('Took {} Seconds'.format(t2-t1))"
   ]
  }
 ],
 "metadata": {
  "kernelspec": {
   "display_name": "Python 3",
   "language": "python",
   "name": "python3"
  },
  "language_info": {
   "codemirror_mode": {
    "name": "ipython",
    "version": 3
   },
   "file_extension": ".py",
   "mimetype": "text/x-python",
   "name": "python",
   "nbconvert_exporter": "python",
   "pygments_lexer": "ipython3",
   "version": "3.6.4"
  }
 },
 "nbformat": 4,
 "nbformat_minor": 2
}
