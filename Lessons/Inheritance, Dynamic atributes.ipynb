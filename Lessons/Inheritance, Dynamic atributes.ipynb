{
 "cells": [
  {
   "cell_type": "markdown",
   "metadata": {},
   "source": [
    "# Inheritance"
   ]
  },
  {
   "cell_type": "markdown",
   "metadata": {},
   "source": [
    "*In object-oriented programming, inheritance is the mechanism of basing an object or class upon another object (prototypical inheritance) or class (class-based inheritance), retaining similar implementation.An object created through inheritance (a \"child object\") acquires all the properties and behaviors of the parent object(Except: constructors, destructor and overloaded operators). Inheritance allows programmers to create classes that are built upon existing classes, to specify a new implementation while maintaining the same behaviors (realizing an interface), to reuse code and to independently extend original software via public classes and interfaces.*\n",
    "\n",
    "The inheriting class is called the **```parent class```**, and the other one is called the **```child class```**\n",
    "\n",
    "In python, inheritence is done via the following simple syntax\n",
    "\n",
    "```python\n",
    "class BaseClass:\n",
    "  \"Body of base class\"\n",
    "\n",
    "class DerivedClass(BaseClass):\n",
    "  \"Body of derived class\"\n",
    "\n",
    "```\n",
    "\n",
    "Derived class inherits features from the base class, adding new features to it. This results into re-usability of code. Let's create a simple class and demonstrate on it what the inheritance is. <br><br>\n",
    "A polygon is a closed figure with 3 or more sides. Say, we have a class called Polygon defined as follows.\n",
    "\n"
   ]
  },
  {
   "cell_type": "code",
   "execution_count": 9,
   "metadata": {},
   "outputs": [],
   "source": [
    "class Polygon:\n",
    "    def __init__(self, no_of_sides):\n",
    "        self.n = no_of_sides\n",
    "        self.sides = list()\n",
    "\n",
    "    def input_sides(self):\n",
    "        self.sides = [float(input(\"Enter side \"+str(i+1)+\" : \")) for i in range(self.n)]\n",
    "\n",
    "    def disp_sides(self):\n",
    "        for i in range(self.n):\n",
    "            print(\"Side\",i+1,\"is\",self.sides[i])"
   ]
  },
  {
   "cell_type": "code",
   "execution_count": 10,
   "metadata": {},
   "outputs": [],
   "source": [
    "# create the poligon object and provide the number of sides\n",
    "p = Polygon(5)"
   ]
  },
  {
   "cell_type": "code",
   "execution_count": 11,
   "metadata": {},
   "outputs": [
    {
     "name": "stdout",
     "output_type": "stream",
     "text": [
      "Enter side 1 : 1\n",
      "Enter side 2 : 1\n",
      "Enter side 3 : 1\n",
      "Enter side 4 : 1\n",
      "Enter side 5 : 1\n"
     ]
    }
   ],
   "source": [
    "# input the length of sides\n",
    "p.input_sides()"
   ]
  },
  {
   "cell_type": "code",
   "execution_count": 12,
   "metadata": {},
   "outputs": [
    {
     "name": "stdout",
     "output_type": "stream",
     "text": [
      "Side 1 is 1.0\n",
      "Side 2 is 1.0\n",
      "Side 3 is 1.0\n",
      "Side 4 is 1.0\n",
      "Side 5 is 1.0\n"
     ]
    }
   ],
   "source": [
    "# display the length of sides\n",
    "p.disp_sides()"
   ]
  },
  {
   "cell_type": "markdown",
   "metadata": {},
   "source": [
    "This class has data attributes to store the number of sides, ```n``` and magnitude of each side as a list, ```sides```. <br>\n",
    "```disp_sides``` just does what its name is - displays the sides. <br>\n",
    "Many familiar shapes are poligons, like triangle. Let's now define ```triangle``` class, using ```polygon```"
   ]
  },
  {
   "cell_type": "code",
   "execution_count": 13,
   "metadata": {},
   "outputs": [],
   "source": [
    "class Triangle(Polygon):\n",
    "    def __init__(self):\n",
    "        Polygon.__init__(self,3)\n",
    "\n",
    "    def find_area(self):\n",
    "        a, b, c = self.sides\n",
    "        # calculate the semi-perimeter\n",
    "        s = (a + b + c) / 2\n",
    "        area = (s*(s-a)*(s-b)*(s-c)) ** 0.5\n",
    "        print('The area of the triangle is %0.2f' %area)"
   ]
  },
  {
   "cell_type": "markdown",
   "metadata": {},
   "source": [
    "Triangle has a new method ```findArea()``` to find and print the area of the triangle. But most of its code it inherits from ```polygon``` class. "
   ]
  },
  {
   "cell_type": "code",
   "execution_count": 16,
   "metadata": {},
   "outputs": [
    {
     "data": {
      "text/plain": [
       "<__main__.Triangle at 0x2d86ca40588>"
      ]
     },
     "execution_count": 16,
     "metadata": {},
     "output_type": "execute_result"
    }
   ],
   "source": [
    "t = Triangle()\n",
    "t"
   ]
  },
  {
   "cell_type": "markdown",
   "metadata": {},
   "source": [
    "We can readily use ```input_sides``` function form class ```Polyndrome```, tough we never defined it in class ```Triangle``` but rather inherited it form the ```Polyndrome``` class"
   ]
  },
  {
   "cell_type": "code",
   "execution_count": 17,
   "metadata": {},
   "outputs": [
    {
     "name": "stdout",
     "output_type": "stream",
     "text": [
      "Enter side 1 : 4\n",
      "Enter side 2 : 4\n",
      "Enter side 3 : 2\n"
     ]
    }
   ],
   "source": [
    "t.input_sides()"
   ]
  },
  {
   "cell_type": "code",
   "execution_count": 18,
   "metadata": {},
   "outputs": [
    {
     "name": "stdout",
     "output_type": "stream",
     "text": [
      "Side 1 is 4.0\n",
      "Side 2 is 4.0\n",
      "Side 3 is 2.0\n"
     ]
    }
   ],
   "source": [
    "t.disp_sides()"
   ]
  },
  {
   "cell_type": "code",
   "execution_count": 19,
   "metadata": {},
   "outputs": [
    {
     "name": "stdout",
     "output_type": "stream",
     "text": [
      "The area of the triangle is 3.87\n"
     ]
    }
   ],
   "source": [
    "t.find_area()"
   ]
  },
  {
   "cell_type": "markdown",
   "metadata": {},
   "source": [
    "# Method Overriding\n",
    "In the above example, notice that ```__init__()``` method was defined in both classes, ```Triangle``` as well ```Polygon```. When this happens, the method in the derived class overrides that in the base class. This is to say, ```__init__()``` in ```Triangle``` gets preference over the same in ```Polygon```. This in programming is called overriding. <br> \n",
    "And not only ```__init__()``` function. One can override any funciton from the parent class.\n",
    "\n",
    "Generally when overriding a base method, we tend to extend the definition rather than simply replace it. The same is being done by calling the method in base class from the one in derived class (calling ```Polygon.__init__()``` from ```__init__()``` in ```Triangle```). <br>\n",
    "\n",
    "A better option would be to use the built-in function ```super()```. So, ```super().__init__(3)``` is equivalent to ```Polygon.__init__(self,3)``` and is preferred. \n",
    "\n"
   ]
  },
  {
   "cell_type": "code",
   "execution_count": 20,
   "metadata": {},
   "outputs": [],
   "source": [
    "class Triangle(Polygon):\n",
    "    def __init__(self):\n",
    "        super().__init__(3)\n",
    "\n",
    "    def find_area(self):\n",
    "        a, b, c = self.sides\n",
    "        # calculate the semi-perimeter\n",
    "        s = (a + b + c) / 2\n",
    "        area = (s*(s-a)*(s-b)*(s-c)) ** 0.5\n",
    "        print('The area of the triangle is %0.2f' %area)"
   ]
  },
  {
   "cell_type": "code",
   "execution_count": 21,
   "metadata": {},
   "outputs": [
    {
     "name": "stdout",
     "output_type": "stream",
     "text": [
      "Enter side 1 : 4\n",
      "Enter side 2 : 4\n",
      "Enter side 3 : 4\n",
      "The area of the triangle is 6.93\n"
     ]
    }
   ],
   "source": [
    "t = Triangle()\n",
    "t.input_sides()\n",
    "t.find_area()"
   ]
  },
  {
   "cell_type": "markdown",
   "metadata": {},
   "source": [
    "### ```isinstance```, ```issubclass()```\n",
    "\n",
    "Two built-in functions ```isinstance()``` and ```issubclass()``` are used to check inheritances. Function ```isinstance()``` returns ```True``` if the object is an instance of the class or other classes derived from it. Each and every class in Python inherits from the base class ```object```."
   ]
  },
  {
   "cell_type": "code",
   "execution_count": 22,
   "metadata": {},
   "outputs": [
    {
     "name": "stdout",
     "output_type": "stream",
     "text": [
      "True\n",
      "True\n",
      "True\n",
      "True\n"
     ]
    }
   ],
   "source": [
    "print(isinstance(t, Triangle))\n",
    "print(isinstance(t, Polygon))\n",
    "print(isinstance(t, object))\n",
    "\n",
    "print(issubclass(Triangle, Polygon))"
   ]
  },
  {
   "cell_type": "code",
   "execution_count": 31,
   "metadata": {},
   "outputs": [
    {
     "name": "stdout",
     "output_type": "stream",
     "text": [
      "The base class of Triangle is \t\t\t\t<class '__main__.Polygon'>\n",
      "The base class of the base class of Triangle is \t<class 'object'>\n"
     ]
    }
   ],
   "source": [
    "print(\"The base class of Triangle is \\t\\t\\t\\t%s\" % str(Triangle.__bases__[0]))\n",
    "print(\"The base class of the base class of Triangle is \\t%s\" % Triangle.__bases__[0].__bases__)"
   ]
  },
  {
   "cell_type": "code",
   "execution_count": null,
   "metadata": {},
   "outputs": [],
   "source": []
  },
  {
   "cell_type": "markdown",
   "metadata": {},
   "source": [
    "# Dynamic Atributes\n",
    "Dynamic atributes are one of the main conviniences of python. Why is it called dynamic atributes? Because these are atributes that are created ***after*** the class is defined, and can be individual to the instances of one class. Let's now create a simple class named ```Foo```"
   ]
  },
  {
   "cell_type": "code",
   "execution_count": 105,
   "metadata": {},
   "outputs": [],
   "source": [
    "class Foo(object):\n",
    "    pass"
   ]
  },
  {
   "cell_type": "markdown",
   "metadata": {},
   "source": [
    "Let's create an instance of that class"
   ]
  },
  {
   "cell_type": "code",
   "execution_count": 93,
   "metadata": {},
   "outputs": [],
   "source": [
    "foo = Foo()"
   ]
  },
  {
   "cell_type": "markdown",
   "metadata": {},
   "source": [
    "Originally we defined ```Foo``` to have **NO** atributes (except *self*). But we can add one on the fly. Let's add atribute ```a```"
   ]
  },
  {
   "cell_type": "code",
   "execution_count": 106,
   "metadata": {},
   "outputs": [],
   "source": [
    "foo.a = 5"
   ]
  },
  {
   "cell_type": "code",
   "execution_count": 107,
   "metadata": {},
   "outputs": [
    {
     "data": {
      "text/plain": [
       "5"
      ]
     },
     "execution_count": 107,
     "metadata": {},
     "output_type": "execute_result"
    }
   ],
   "source": [
    "foo.a"
   ]
  },
  {
   "cell_type": "markdown",
   "metadata": {},
   "source": [
    "Now this concrete instance of ```Foo``` will have an attribute named ```a```, but it will not change the class itself, only this instance."
   ]
  },
  {
   "cell_type": "code",
   "execution_count": 108,
   "metadata": {},
   "outputs": [],
   "source": [
    "foo_2 = Foo()"
   ]
  },
  {
   "cell_type": "code",
   "execution_count": 109,
   "metadata": {},
   "outputs": [
    {
     "ename": "AttributeError",
     "evalue": "'Foo' object has no attribute 'a'",
     "output_type": "error",
     "traceback": [
      "\u001b[0;31m---------------------------------------------------------------------------\u001b[0m",
      "\u001b[0;31mAttributeError\u001b[0m                            Traceback (most recent call last)",
      "\u001b[0;32m<ipython-input-109-8a59b8a537f9>\u001b[0m in \u001b[0;36m<module>\u001b[0;34m()\u001b[0m\n\u001b[0;32m----> 1\u001b[0;31m \u001b[0mfoo_2\u001b[0m\u001b[0;34m.\u001b[0m\u001b[0ma\u001b[0m\u001b[0;34m\u001b[0m\u001b[0m\n\u001b[0m",
      "\u001b[0;31mAttributeError\u001b[0m: 'Foo' object has no attribute 'a'"
     ]
    }
   ],
   "source": [
    "foo_2.a"
   ]
  },
  {
   "cell_type": "markdown",
   "metadata": {},
   "source": [
    "But if we want to add attributes to the class itself, we can also do it."
   ]
  },
  {
   "cell_type": "code",
   "execution_count": 113,
   "metadata": {},
   "outputs": [],
   "source": [
    "Foo.b = 5"
   ]
  },
  {
   "cell_type": "code",
   "execution_count": 114,
   "metadata": {},
   "outputs": [],
   "source": [
    "foo_3 = Foo()"
   ]
  },
  {
   "cell_type": "code",
   "execution_count": 115,
   "metadata": {},
   "outputs": [
    {
     "data": {
      "text/plain": [
       "5"
      ]
     },
     "execution_count": 115,
     "metadata": {},
     "output_type": "execute_result"
    }
   ],
   "source": [
    "foo_3.b"
   ]
  },
  {
   "cell_type": "markdown",
   "metadata": {},
   "source": [
    "Note that this was a change to the class itself, so the instances will get affected too."
   ]
  },
  {
   "cell_type": "code",
   "execution_count": 117,
   "metadata": {},
   "outputs": [
    {
     "data": {
      "text/plain": [
       "5"
      ]
     },
     "execution_count": 117,
     "metadata": {},
     "output_type": "execute_result"
    }
   ],
   "source": [
    "foo_2.b"
   ]
  },
  {
   "cell_type": "markdown",
   "metadata": {},
   "source": [
    "# getattr(), setattr()\n",
    "In most cases, to get an attribute of an object, you just want to use ```obj.field```. But if you don’t know the name of the field until runtime, you can use ```getattr(obj, 'field')```. *Note the similiarity to the ```get()``` method of dictionaries*"
   ]
  },
  {
   "cell_type": "code",
   "execution_count": 32,
   "metadata": {},
   "outputs": [],
   "source": [
    "def print_field(obj, field):\n",
    "    try:\n",
    "        print (getattr(obj, field))\n",
    "    except AttributeError:\n",
    "        print ('No %s field' % field)"
   ]
  },
  {
   "cell_type": "markdown",
   "metadata": {},
   "source": [
    "This is a fairly common pattern, so you can avoid the extra ```if/else``` and use the third default parameter:"
   ]
  },
  {
   "cell_type": "code",
   "execution_count": 33,
   "metadata": {},
   "outputs": [],
   "source": [
    "def print_field(obj, field):\n",
    "    print (getattr(obj, field, 'No %s field' % field))"
   ]
  },
  {
   "cell_type": "markdown",
   "metadata": {},
   "source": [
    "Both attribute access methods are virtually identical in terms of performance. The regular method produces slightly cleaner code, so normally you would use that. Besides, when do you NOT know the names of the fields you want to access ahead of time?\n",
    "\n",
    "If you’re dealing with data, you don’t always know. For example, say you’re mapping URLs to view methods. If the user hits ```/user/123/settings```, you could route that to a view function as follows:"
   ]
  },
  {
   "cell_type": "code",
   "execution_count": 34,
   "metadata": {},
   "outputs": [],
   "source": [
    "class ViewClass:\n",
    "\n",
    "    def route(self, request):\n",
    "        return getattr(self, request.url.split('/')[-1], 'not_found_404')(request)\n",
    "\n",
    "    def settings(self, request):\n",
    "        return HttpResponse('Here is your settings page!')\n",
    "\n",
    "    def not_found_404(self, request):\n",
    "        return HttpResponse('404 Page Not Found', code=404)"
   ]
  },
  {
   "cell_type": "markdown",
   "metadata": {},
   "source": [
    "### settatr()"
   ]
  },
  {
   "cell_type": "code",
   "execution_count": 35,
   "metadata": {},
   "outputs": [
    {
     "name": "stdout",
     "output_type": "stream",
     "text": [
      "Name is: None\n",
      "Age is: 23\n"
     ]
    }
   ],
   "source": [
    "class Person:\n",
    "    name = 'Adam'\n",
    "    \n",
    "p = Person()\n",
    "\n",
    "# setting attribute name to None\n",
    "setattr(p, 'name', None)\n",
    "print('Name is:', p.name)\n",
    "\n",
    "# setting an attribute not present\n",
    "# in Person\n",
    "setattr(p, 'age', 23)\n",
    "print('Age is:', p.age)"
   ]
  },
  {
   "cell_type": "code",
   "execution_count": null,
   "metadata": {},
   "outputs": [],
   "source": []
  },
  {
   "cell_type": "code",
   "execution_count": null,
   "metadata": {},
   "outputs": [],
   "source": []
  }
 ],
 "metadata": {
  "kernelspec": {
   "display_name": "Python 3",
   "language": "python",
   "name": "python3"
  },
  "language_info": {
   "codemirror_mode": {
    "name": "ipython",
    "version": 3
   },
   "file_extension": ".py",
   "mimetype": "text/x-python",
   "name": "python",
   "nbconvert_exporter": "python",
   "pygments_lexer": "ipython3",
   "version": "3.6.5"
  }
 },
 "nbformat": 4,
 "nbformat_minor": 2
}
