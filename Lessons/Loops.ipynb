{
 "cells": [
  {
   "cell_type": "markdown",
   "metadata": {},
   "source": [
    "## Loops"
   ]
  },
  {
   "cell_type": "markdown",
   "metadata": {
    "collapsed": true
   },
   "source": [
    "Why to use loops?\n",
    "\n",
    "Execute multiple statement simultaniously rather than one-by-one\n",
    "Example: Calculating salaries of employees: salary + bonus \n",
    "        \n",
    "Advantage: one logic for everyone instead of having different logic for each\n",
    "    \n",
    "The loop is executed while the condition it imposes is True (repeats until the condition becomes False, \n",
    "then we move out the loop and continue executing other statements)\n",
    "\n",
    "Infinite and finite loops"
   ]
  },
  {
   "cell_type": "markdown",
   "metadata": {
    "collapsed": true
   },
   "source": [
    "### Simple for loops: repeats the loop for the specified number of times"
   ]
  },
  {
   "cell_type": "code",
   "execution_count": 1,
   "metadata": {},
   "outputs": [
    {
     "name": "stdout",
     "output_type": "stream",
     "text": [
      "1\n",
      "2\n",
      "3\n",
      "4\n",
      "5\n",
      "6\n",
      "7\n",
      "8\n",
      "9\n",
      "10\n"
     ]
    }
   ],
   "source": [
    "#Pay attention to the indentation\n",
    "#For loop as a counter\n",
    "#range is a build-in function\n",
    "for x in range(1, 11):\n",
    "    print(x)"
   ]
  },
  {
   "cell_type": "code",
   "execution_count": 3,
   "metadata": {},
   "outputs": [
    {
     "name": "stdout",
     "output_type": "stream",
     "text": [
      "0\n",
      "1\n",
      "2\n",
      "3\n",
      "4\n",
      "5\n",
      "6\n",
      "7\n",
      "8\n",
      "9\n",
      "10\n"
     ]
    }
   ],
   "source": [
    "for x in range(11):\n",
    "    print(x)"
   ]
  },
  {
   "cell_type": "markdown",
   "metadata": {},
   "source": [
    "#### Some info about range\n",
    "\n",
    "in python2, range(1,1000000000000000000000) will take a lot of your memory\n",
    "in python3, range(1,1000000000000000000000) is a generator, it doesn't take your memory! Magic :D\n",
    "More on generators later in the course :)"
   ]
  },
  {
   "cell_type": "code",
   "execution_count": 4,
   "metadata": {},
   "outputs": [
    {
     "data": {
      "text/plain": [
       "[1, 3, 5, 10, 7, -2, 3, 5, 6, 12]"
      ]
     },
     "execution_count": 4,
     "metadata": {},
     "output_type": "execute_result"
    }
   ],
   "source": [
    "list1 = [1, 3, 5, 10, 7, -2, 3, 5, 6, 12]\n",
    "list1"
   ]
  },
  {
   "cell_type": "code",
   "execution_count": 5,
   "metadata": {},
   "outputs": [
    {
     "name": "stdout",
     "output_type": "stream",
     "text": [
      "0 : 1\n",
      "1 : 3\n",
      "2 : 5\n",
      "3 : 10\n",
      "4 : 7\n",
      "5 : -2\n",
      "6 : 3\n",
      "7 : 5\n",
      "8 : 6\n",
      "9 : 12\n"
     ]
    }
   ],
   "source": [
    "for i in range(len(list1)):  #the same as range(0, len(list1))\n",
    "    print(i, \":\",list1[i])\n",
    "    #print(i)"
   ]
  },
  {
   "cell_type": "code",
   "execution_count": 6,
   "metadata": {},
   "outputs": [
    {
     "name": "stdout",
     "output_type": "stream",
     "text": [
      "1\n",
      "3\n",
      "5\n",
      "10\n",
      "7\n",
      "-2\n",
      "3\n",
      "5\n",
      "6\n",
      "12\n",
      "continue program\n"
     ]
    }
   ],
   "source": [
    "#For loop as an iterator\n",
    "list1 = [1, 3, 5, 10, 7, -2, 3, 5, 6, 12]\n",
    "\n",
    "#This is creating a variable eachNumber. Each step of the way, the numbers from the list1 are being assigned to the variable\n",
    "for eachNumber in list1:\n",
    "    print(eachNumber)\n",
    "print('continue program')"
   ]
  },
  {
   "cell_type": "markdown",
   "metadata": {},
   "source": [
    "### Indentation issues"
   ]
  },
  {
   "cell_type": "code",
   "execution_count": 7,
   "metadata": {},
   "outputs": [
    {
     "ename": "IndentationError",
     "evalue": "expected an indented block (<ipython-input-7-5988a55a2e0a>, line 2)",
     "output_type": "error",
     "traceback": [
      "\u001b[1;36m  File \u001b[1;32m\"<ipython-input-7-5988a55a2e0a>\"\u001b[1;36m, line \u001b[1;32m2\u001b[0m\n\u001b[1;33m    print(eachNumber)\u001b[0m\n\u001b[1;37m        ^\u001b[0m\n\u001b[1;31mIndentationError\u001b[0m\u001b[1;31m:\u001b[0m expected an indented block\n"
     ]
    }
   ],
   "source": [
    "for eachNumber in list1:\n",
    "print(eachNumber)\n",
    "print('continue program')"
   ]
  },
  {
   "cell_type": "code",
   "execution_count": 9,
   "metadata": {},
   "outputs": [
    {
     "name": "stdout",
     "output_type": "stream",
     "text": [
      "1\n",
      "continue program\n",
      "3\n",
      "continue program\n",
      "5\n",
      "continue program\n",
      "10\n",
      "continue program\n",
      "7\n",
      "continue program\n",
      "-2\n",
      "continue program\n",
      "3\n",
      "continue program\n",
      "5\n",
      "continue program\n",
      "6\n",
      "continue program\n",
      "12\n",
      "continue program\n"
     ]
    }
   ],
   "source": [
    "#Indentation issues\n",
    "for eachNumber in list1:\n",
    "    print(eachNumber)\n",
    "    print('continue program')"
   ]
  },
  {
   "cell_type": "code",
   "execution_count": 10,
   "metadata": {},
   "outputs": [
    {
     "ename": "IndentationError",
     "evalue": "expected an indented block (<ipython-input-10-fce9bdc87c21>, line 6)",
     "output_type": "error",
     "traceback": [
      "\u001b[1;36m  File \u001b[1;32m\"<ipython-input-10-fce9bdc87c21>\"\u001b[1;36m, line \u001b[1;32m6\u001b[0m\n\u001b[1;33m    print(eachNumber)\u001b[0m\n\u001b[1;37m        ^\u001b[0m\n\u001b[1;31mIndentationError\u001b[0m\u001b[1;31m:\u001b[0m expected an indented block\n"
     ]
    }
   ],
   "source": [
    "#Indentation tricks\n",
    "#tab  ->to bring forward\n",
    "#ctrl  [  ->to bring backward\n",
    "\n",
    "for eachNumber in list1:\n",
    "print(eachNumber)\n",
    "print('continue program')"
   ]
  },
  {
   "cell_type": "code",
   "execution_count": 11,
   "metadata": {},
   "outputs": [
    {
     "name": "stdout",
     "output_type": "stream",
     "text": [
      "[1, 3, 5, 10, 7, -2, 3, 5, 6, 12]\n",
      "1\n",
      "3\n",
      "5\n",
      "10\n",
      "7\n"
     ]
    }
   ],
   "source": [
    "print(list1)\n",
    "for number in list1[:5]:\n",
    "    print(number)"
   ]
  },
  {
   "cell_type": "code",
   "execution_count": 14,
   "metadata": {},
   "outputs": [
    {
     "name": "stdout",
     "output_type": "stream",
     "text": [
      "Enter name: kl\n",
      "k\n",
      "l\n"
     ]
    }
   ],
   "source": [
    "name = input(\"Enter name: \")\n",
    "\n",
    "for letter in name:\n",
    "    print(letter)"
   ]
  },
  {
   "cell_type": "markdown",
   "metadata": {
    "collapsed": true
   },
   "source": [
    "### While loops: condition loops, iterate while the condition evaluates to True, no garantee how many times the statements will be executed\n",
    "    \n",
    "while expression:\n",
    "\n",
    "     statement"
   ]
  },
  {
   "cell_type": "markdown",
   "metadata": {},
   "source": [
    "#### Note: For and while loops are completely interchangable"
   ]
  },
  {
   "cell_type": "code",
   "execution_count": 15,
   "metadata": {},
   "outputs": [
    {
     "name": "stdout",
     "output_type": "stream",
     "text": [
      "Number:  0\n",
      "Number:  1\n",
      "Number:  2\n",
      "Number:  3\n",
      "continuation of the code\n"
     ]
    }
   ],
   "source": [
    "count = 0\n",
    "\n",
    "while count<4:\n",
    "    print(\"Number: \", count)\n",
    "    count += 1\n",
    "print(\"continuation of the code\")"
   ]
  },
  {
   "cell_type": "markdown",
   "metadata": {},
   "source": [
    "### An infinite loop"
   ]
  },
  {
   "cell_type": "code",
   "execution_count": null,
   "metadata": {},
   "outputs": [],
   "source": [
    "#When we have count<9 we ask at every iteration: is count<9 and we answer True or False\n",
    "#When we have True, the statements in the loop will always be executed\n",
    "\n",
    "while True:\n",
    "    print('You are in the infinite loop')"
   ]
  },
  {
   "cell_type": "markdown",
   "metadata": {
    "collapsed": true
   },
   "source": [
    "### Nested loops (having a loop inside of a loop)"
   ]
  },
  {
   "cell_type": "code",
   "execution_count": 17,
   "metadata": {},
   "outputs": [
    {
     "name": "stdout",
     "output_type": "stream",
     "text": [
      "First loop:  0\n",
      "Second loop:  0\n",
      "First loop:  0\n",
      "Second loop:  1\n",
      "First loop:  0\n",
      "Second loop:  2\n",
      "First loop:  1\n",
      "Second loop:  0\n",
      "First loop:  1\n",
      "Second loop:  1\n",
      "First loop:  1\n",
      "Second loop:  2\n",
      "First loop:  2\n",
      "Second loop:  0\n",
      "First loop:  2\n",
      "Second loop:  1\n",
      "First loop:  2\n",
      "Second loop:  2\n"
     ]
    }
   ],
   "source": [
    "for i in range(3):\n",
    "    for j in range(3):\n",
    "        print(\"First loop: \", i)\n",
    "        print(\"Second loop: \", j)"
   ]
  },
  {
   "cell_type": "code",
   "execution_count": 20,
   "metadata": {},
   "outputs": [
    {
     "name": "stdout",
     "output_type": "stream",
     "text": [
      "First loop:  0\n",
      "Second loop:  0\n",
      "First loop:  0\n",
      "Second loop:  1\n",
      "First loop:  0\n",
      "Second loop:  2\n",
      "First loop:  1\n",
      "Second loop:  0\n",
      "First loop:  1\n",
      "Second loop:  1\n",
      "First loop:  1\n",
      "Second loop:  2\n",
      "First loop:  2\n",
      "Second loop:  0\n",
      "First loop:  2\n",
      "Second loop:  1\n",
      "First loop:  2\n",
      "Second loop:  2\n"
     ]
    }
   ],
   "source": [
    "i = 0\n",
    "j = 0\n",
    "\n",
    "while i<3:\n",
    "    while j<3:\n",
    "        print(\"First loop: \", i)\n",
    "        print(\"Second loop: \", j)\n",
    "        j+=1\n",
    "    i+=1\n",
    "    j = 0"
   ]
  },
  {
   "cell_type": "code",
   "execution_count": 21,
   "metadata": {},
   "outputs": [
    {
     "name": "stdout",
     "output_type": "stream",
     "text": [
      "First loop:  0\n",
      "Second loop:  0\n",
      "First loop:  0\n",
      "Second loop:  1\n",
      "First loop:  0\n",
      "Second loop:  2\n",
      "First loop:  1\n",
      "Second loop:  0\n",
      "First loop:  1\n",
      "Second loop:  1\n",
      "First loop:  1\n",
      "Second loop:  2\n",
      "First loop:  2\n",
      "Second loop:  0\n",
      "First loop:  2\n",
      "Second loop:  1\n",
      "First loop:  2\n",
      "Second loop:  2\n"
     ]
    }
   ],
   "source": [
    "i = 0\n",
    "\n",
    "while i<3:\n",
    "    for j in range(3):\n",
    "        print(\"First loop: \", i)\n",
    "        print(\"Second loop: \", j)\n",
    "        \n",
    "    i+=1\n"
   ]
  },
  {
   "cell_type": "code",
   "execution_count": 24,
   "metadata": {},
   "outputs": [
    {
     "name": "stdout",
     "output_type": "stream",
     "text": [
      "i : 0 | j : 0\n",
      "i : 0 | j : 1\n",
      "i : 0 | j : 2\n",
      "i : 1 | j : 0\n",
      "i : 1 | j : 1\n",
      "i : 1 | j : 2\n",
      "i : 2 | j : 0\n",
      "i : 2 | j : 1\n",
      "i : 2 | j : 2\n"
     ]
    }
   ],
   "source": [
    "j=0\n",
    "for i in range(3):\n",
    "    while j<3:\n",
    "        print(\"i :\", i, \"| j :\", j)\n",
    "        j+=1\n",
    "    j=0"
   ]
  },
  {
   "cell_type": "markdown",
   "metadata": {
    "collapsed": true
   },
   "source": [
    "### Loop control statements"
   ]
  },
  {
   "cell_type": "markdown",
   "metadata": {
    "collapsed": true
   },
   "source": [
    "### Break\n",
    "\n",
    "Terminating the loop\n",
    "You've reached the output you've needed and you don't want to continue iterating"
   ]
  },
  {
   "cell_type": "code",
   "execution_count": 28,
   "metadata": {},
   "outputs": [
    {
     "name": "stdout",
     "output_type": "stream",
     "text": [
      "6\n",
      "some code after the loop\n"
     ]
    }
   ],
   "source": [
    "list2 = [1, 3, 6, 23, 7, 0, 1]\n",
    "for i in range(len(list2)):\n",
    "    #print('i = ',i)\n",
    "    if list2[i] == 6:\n",
    "        print(list2[i])\n",
    "        break\n",
    "print('some code after the loop')       "
   ]
  },
  {
   "cell_type": "code",
   "execution_count": 31,
   "metadata": {},
   "outputs": [
    {
     "name": "stdout",
     "output_type": "stream",
     "text": [
      "c =  0\n",
      "c =  1\n",
      "c =  2\n",
      "c =  3\n",
      "c =  4\n",
      "c =  5\n",
      "c =  6\n",
      "c =  7\n",
      "c =  8\n",
      "c =  9\n"
     ]
    }
   ],
   "source": [
    "c = 0\n",
    "\n",
    "while c<10:\n",
    "    print('c = ',c)\n",
    "    #if c == 3:  #remove the comment and see what happens\n",
    "        #break\n",
    "    c += 1"
   ]
  },
  {
   "cell_type": "markdown",
   "metadata": {
    "collapsed": true
   },
   "source": [
    "### Continue\n",
    "\n",
    "Skip code after the if statement if the condition evaluates to True"
   ]
  },
  {
   "cell_type": "code",
   "execution_count": 34,
   "metadata": {},
   "outputs": [
    {
     "name": "stdout",
     "output_type": "stream",
     "text": [
      "c =  1\n",
      "c =  2\n",
      "c =  4\n",
      "c =  5\n",
      "c =  6\n",
      "c =  7\n",
      "c =  8\n",
      "c =  9\n",
      "c =  10\n"
     ]
    }
   ],
   "source": [
    "c = 0\n",
    "\n",
    "while c<10:\n",
    "    c += 1\n",
    "    \n",
    "    if c == 3:\n",
    "        #print(\"reached 3\")\n",
    "        continue\n",
    "    print('c = ',c)"
   ]
  },
  {
   "cell_type": "code",
   "execution_count": 35,
   "metadata": {},
   "outputs": [
    {
     "name": "stdout",
     "output_type": "stream",
     "text": [
      "c =  1\n",
      "c =  2\n",
      "c =  4\n",
      "c =  5\n",
      "c =  6\n",
      "c =  7\n",
      "c =  8\n",
      "c =  9\n",
      "c =  10\n",
      "Some code after the loop\n"
     ]
    }
   ],
   "source": [
    "#The code after the loop is executed anyways\n",
    "\n",
    "c = 0\n",
    "\n",
    "while c<10:\n",
    "    c += 1\n",
    "    \n",
    "    if c == 3:\n",
    "        #print(\"reached 3\")\n",
    "        continue\n",
    "    print('c = ',c)\n",
    "    \n",
    "print(\"Some code after the loop\")"
   ]
  },
  {
   "cell_type": "markdown",
   "metadata": {
    "collapsed": true
   },
   "source": [
    "### pass\n",
    "\n",
    "When you don't know what you're going to write but you have to write some code there to fill the place later"
   ]
  },
  {
   "cell_type": "code",
   "execution_count": 36,
   "metadata": {},
   "outputs": [
    {
     "name": "stdout",
     "output_type": "stream",
     "text": [
      "c =  1\n",
      "c =  2\n",
      "c =  3\n",
      "c =  4\n",
      "c =  5\n",
      "c =  6\n",
      "c =  7\n",
      "c =  8\n",
      "c =  9\n",
      "c =  10\n"
     ]
    }
   ],
   "source": [
    "c = 0\n",
    "\n",
    "while c<10:\n",
    "    c += 1\n",
    "    \n",
    "    if c == 3:\n",
    "        pass\n",
    "    print('c = ',c)"
   ]
  },
  {
   "cell_type": "code",
   "execution_count": 39,
   "metadata": {},
   "outputs": [
    {
     "name": "stdout",
     "output_type": "stream",
     "text": [
      "a [5, 2, 3]\n",
      "c 3\n",
      "e 5\n"
     ]
    }
   ],
   "source": [
    "d = {'a': [5,2,3], 'c': 3, 'e': 5}\n",
    "\n",
    "for key, value in d.items():\n",
    "    print(key, value)"
   ]
  },
  {
   "cell_type": "code",
   "execution_count": 40,
   "metadata": {},
   "outputs": [
    {
     "name": "stdout",
     "output_type": "stream",
     "text": [
      "3\n",
      "4\n",
      "a\n",
      "b\n",
      "c\n",
      "d\n",
      "5\n",
      "6\n",
      "7\n",
      "8\n",
      "1.1\n",
      "2.2\n",
      "3.3\n",
      "4.4\n"
     ]
    }
   ],
   "source": [
    "l1 = [['a','b','c','d'], [5,6,7,8], [1.1, 2.2, 3.3, 4.4]]\n",
    "\n",
    "print(len(l1))\n",
    "print(len(l1[0]))\n",
    "\n",
    "for i in range(len(l1)):\n",
    "    for j in range(len(l1[0])):\n",
    "        print(l1[i][j])"
   ]
  },
  {
   "cell_type": "code",
   "execution_count": 2,
   "metadata": {},
   "outputs": [
    {
     "name": "stdout",
     "output_type": "stream",
     "text": [
      "List1 =  [[5, 7, -7, 'abc'], [2, 4, True, 3], [4, 6, 7, 7], [2, 4, 1, True]]\n",
      "list1[i][j] =  5\n",
      "list1[i][j] =  7\n",
      "list1[i][j] =  -7\n",
      "list1[i][j] =  abc\n",
      "list1[i][j] =  2\n",
      "list1[i][j] =  4\n",
      "list1[i][j] =  True\n"
     ]
    }
   ],
   "source": [
    "list1 = [[5, 7, -7, 'abc'], [2, 4, True, 3], [4, 6, 7, 7], [2, 4, 1, True]] \n",
    "print(\"List1 = \",list1)\n",
    "a = 0\n",
    "\n",
    "for i in range(len(list1)):\n",
    "    if a == 1:\n",
    "        break\n",
    "    for j in range(len(list1[i])):\n",
    "        if list1[i][j] == 3:\n",
    "            a=1\n",
    "            break\n",
    "        print(\"list1[i][j] = \",list1[i][j])"
   ]
  }
 ],
 "metadata": {
  "kernelspec": {
   "display_name": "Python 3",
   "language": "python",
   "name": "python3"
  },
  "language_info": {
   "codemirror_mode": {
    "name": "ipython",
    "version": 3
   },
   "file_extension": ".py",
   "mimetype": "text/x-python",
   "name": "python",
   "nbconvert_exporter": "python",
   "pygments_lexer": "ipython3",
   "version": "3.6.5"
  }
 },
 "nbformat": 4,
 "nbformat_minor": 2
}
