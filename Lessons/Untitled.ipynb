{
 "cells": [
  {
   "cell_type": "code",
   "execution_count": 16,
   "metadata": {},
   "outputs": [
    {
     "name": "stdout",
     "output_type": "stream",
     "text": [
      "HI EVERYONE\n"
     ]
    },
    {
     "data": {
      "text/plain": [
       "'Hi everyone!!! Welcome to the party.'"
      ]
     },
     "execution_count": 16,
     "metadata": {},
     "output_type": "execute_result"
    }
   ],
   "source": [
    "str1 = \"HI EVERYONE\"\n",
    "print(str1)\n",
    "str2 = \"!!! Welcome to the party.\"\n",
    "\n",
    "def lower_str(func):\n",
    "\tdef wrapper(*arg, **kwargs):\n",
    "\t\treturn func(*arg, **kwargs)[0]+func(*arg, **kwargs)[1:].lower()\n",
    "\t\t\n",
    "\treturn wrapper\n",
    "\n",
    "def added(func1):\n",
    "\tdef wrapper(*arg, **kwargs):\n",
    "\t\treturn func1(*arg, **kwargs) + str2\n",
    "\t\t\n",
    "\treturn wrapper\n",
    "\n",
    "@added\n",
    "@lower_str\n",
    "def print_str(s):\n",
    "\treturn s\n",
    "\n",
    "\n",
    "print_str(str1)"
   ]
  }
 ],
 "metadata": {
  "kernelspec": {
   "display_name": "Python 3",
   "language": "python",
   "name": "python3"
  },
  "language_info": {
   "codemirror_mode": {
    "name": "ipython",
    "version": 3
   },
   "file_extension": ".py",
   "mimetype": "text/x-python",
   "name": "python",
   "nbconvert_exporter": "python",
   "pygments_lexer": "ipython3",
   "version": "3.6.5"
  }
 },
 "nbformat": 4,
 "nbformat_minor": 2
}
