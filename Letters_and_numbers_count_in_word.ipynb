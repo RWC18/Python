{
 "cells": [
  {
   "cell_type": "code",
   "execution_count": 20,
   "metadata": {},
   "outputs": [
    {
     "name": "stdout",
     "output_type": "stream",
     "text": [
      "ajgg4545UIOGSDG\n",
      "a : 1\n",
      "b : 0\n",
      "c : 0\n",
      "d : 0\n",
      "e : 0\n",
      "f : 0\n",
      "g : 2\n",
      "h : 0\n",
      "l : 0\n",
      "m : 0\n",
      "n : 0\n",
      "o : 0\n",
      "p : 0\n",
      "q : 0\n",
      "r : 0\n",
      "s : 0\n",
      "t : 0\n",
      "u : 0\n",
      "v : 0\n",
      "w : 0\n",
      "x : 0\n",
      "y : 0\n",
      "z : 0\n",
      "A : 0\n",
      "B : 0\n",
      "C : 0\n",
      "D : 1\n",
      "E : 0\n",
      "F : 0\n",
      "G : 2\n",
      "H : 0\n",
      "I : 1\n",
      "J : 0\n",
      "K : 0\n",
      "L : 0\n",
      "M : 0\n",
      "N : 0\n",
      "O : 1\n",
      "P : 0\n",
      "Q : 0\n",
      "R : 0\n",
      "S : 1\n",
      "T : 0\n",
      "U : 1\n",
      "V : 0\n",
      "W : 0\n",
      "X : 0\n",
      "Y : 0\n",
      "Z : 0\n",
      "1 : 0\n",
      "2 : 0\n",
      "3 : 0\n",
      "4 : 2\n",
      "5 : 2\n",
      "6 : 0\n",
      "7 : 0\n",
      "8 : 0\n",
      "9 : 0\n",
      "0 : 0\n"
     ]
    }
   ],
   "source": [
    "les = 'abcdefghlmnopqrstuvwxyzABCDEFGHIJKLMNOPQRSTUVWXYZ1234567890'\n",
    "st = str(input())\n",
    "\n",
    "for ch in les:\n",
    "    print(\"%s : %s\" % (ch, st.count(ch)))\n",
    "    "
   ]
  },
  {
   "cell_type": "code",
   "execution_count": null,
   "metadata": {},
   "outputs": [],
   "source": []
  }
 ],
 "metadata": {
  "kernelspec": {
   "display_name": "Python 3",
   "language": "python",
   "name": "python3"
  },
  "language_info": {
   "codemirror_mode": {
    "name": "ipython",
    "version": 3
   },
   "file_extension": ".py",
   "mimetype": "text/x-python",
   "name": "python",
   "nbconvert_exporter": "python",
   "pygments_lexer": "ipython3",
   "version": "3.6.5"
  }
 },
 "nbformat": 4,
 "nbformat_minor": 2
}
